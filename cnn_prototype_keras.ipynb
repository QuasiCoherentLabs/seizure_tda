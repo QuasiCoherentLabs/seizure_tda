{
 "cells": [
  {
   "cell_type": "markdown",
   "metadata": {},
   "source": [
    "# 1D CNN prototype"
   ]
  },
  {
   "cell_type": "code",
   "execution_count": 6,
   "metadata": {},
   "outputs": [
    {
     "data": {
      "text/html": [
       "<style>.container { width:90% !important; }</style>"
      ],
      "text/plain": [
       "<IPython.core.display.HTML object>"
      ]
     },
     "metadata": {},
     "output_type": "display_data"
    }
   ],
   "source": [
    "# data\n",
    "import numpy as np\n",
    "import pandas as pd\n",
    "pd.set_option('display.max_columns', None)\n",
    "\n",
    "# plotting\n",
    "import matplotlib.pyplot as plt\n",
    "\n",
    "from keras.models import Sequential\n",
    "from keras.layers import Dense, Dropout\n",
    "from keras.layers import Embedding\n",
    "from keras.layers import Conv1D, GlobalAveragePooling1D, MaxPooling1D\n",
    "\n",
    "# format notebook output\n",
    "from IPython.core.interactiveshell import InteractiveShell\n",
    "InteractiveShell.ast_node_interactivity = \"all\"\n",
    "from IPython.core.display import display, HTML\n",
    "display(HTML(\"<style>.container { width:90% !important; }</style>\"))\n",
    "\n",
    "# matplotlib magic\n",
    "%matplotlib inline"
   ]
  },
  {
   "cell_type": "code",
   "execution_count": 74,
   "metadata": {},
   "outputs": [],
   "source": [
    "x_train = np.random.rand(100, 10, 4)\n",
    "y_train = np.random.randint(low=0, high=2, size=(100, 2, 1))"
   ]
  },
  {
   "cell_type": "code",
   "execution_count": 75,
   "metadata": {},
   "outputs": [],
   "source": [
    "x_test = np.random.rand(20, 10, 4)\n",
    "y_test = np.random.randint(low=0, high=2, size=(20, 2, 1))"
   ]
  },
  {
   "cell_type": "code",
   "execution_count": 77,
   "metadata": {
    "scrolled": false
   },
   "outputs": [
    {
     "name": "stdout",
     "output_type": "stream",
     "text": [
      "Epoch 1/10\n",
      "100/100 [==============================] - 1s 11ms/step - loss: 0.7191 - acc: 0.4550\n",
      "Epoch 2/10\n",
      "100/100 [==============================] - 0s 109us/step - loss: 0.7035 - acc: 0.4800\n",
      "Epoch 3/10\n",
      "100/100 [==============================] - 0s 110us/step - loss: 0.7034 - acc: 0.5100\n",
      "Epoch 4/10\n",
      "100/100 [==============================] - 0s 117us/step - loss: 0.7018 - acc: 0.4650\n",
      "Epoch 5/10\n",
      "100/100 [==============================] - 0s 123us/step - loss: 0.7007 - acc: 0.4850\n",
      "Epoch 6/10\n",
      "100/100 [==============================] - 0s 120us/step - loss: 0.7056 - acc: 0.4600\n",
      "Epoch 7/10\n",
      "100/100 [==============================] - 0s 114us/step - loss: 0.6888 - acc: 0.5300\n",
      "Epoch 8/10\n",
      "100/100 [==============================] - 0s 114us/step - loss: 0.6939 - acc: 0.5600\n",
      "Epoch 9/10\n",
      "100/100 [==============================] - 0s 122us/step - loss: 0.6960 - acc: 0.5000\n",
      "Epoch 10/10\n",
      "100/100 [==============================] - 0s 114us/step - loss: 0.7066 - acc: 0.5000\n"
     ]
    },
    {
     "data": {
      "text/plain": [
       "<keras.callbacks.History at 0x120a53940>"
      ]
     },
     "execution_count": 77,
     "metadata": {},
     "output_type": "execute_result"
    },
    {
     "name": "stdout",
     "output_type": "stream",
     "text": [
      "20/20 [==============================] - 0s 2ms/step\n"
     ]
    }
   ],
   "source": [
    "model = Sequential()\n",
    "model.add(Conv1D(64, 3, activation='relu', input_shape=(10, 4)))\n",
    "# model.add(Conv1D(64, 3, activation='relu'))\n",
    "model.add(MaxPooling1D(3))\n",
    "# model.add(Conv1D(128, 3, activation='relu'))\n",
    "# model.add(Conv1D(128, 3, activation='relu'))\n",
    "# model.add(GlobalAveragePooling1D())\n",
    "model.add(Dropout(0.5))\n",
    "model.add(Dense(1, activation='sigmoid'))\n",
    "\n",
    "model.compile(loss='binary_crossentropy',\n",
    "              optimizer='rmsprop',\n",
    "              metrics=['accuracy'])\n",
    "\n",
    "model.fit(x=x_train, y=y_train, batch_size=16, epochs=10)\n",
    "score = model.evaluate(x=x_test, y=y_test, batch_size=16)"
   ]
  },
  {
   "cell_type": "code",
   "execution_count": 78,
   "metadata": {},
   "outputs": [
    {
     "data": {
      "text/plain": [
       "<keras.models.Sequential at 0x1209ca128>"
      ]
     },
     "execution_count": 78,
     "metadata": {},
     "output_type": "execute_result"
    }
   ],
   "source": [
    "model"
   ]
  },
  {
   "cell_type": "code",
   "execution_count": null,
   "metadata": {},
   "outputs": [],
   "source": []
  }
 ],
 "metadata": {
  "kernelspec": {
   "display_name": "Python 3",
   "language": "python",
   "name": "python3"
  },
  "language_info": {
   "codemirror_mode": {
    "name": "ipython",
    "version": 3
   },
   "file_extension": ".py",
   "mimetype": "text/x-python",
   "name": "python",
   "nbconvert_exporter": "python",
   "pygments_lexer": "ipython3",
   "version": "3.6.3"
  }
 },
 "nbformat": 4,
 "nbformat_minor": 2
}
